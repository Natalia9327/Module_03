{
 "cells": [
  {
   "cell_type": "markdown",
   "metadata": {},
   "source": [
    "# Загрузка Pandas и очистка данных"
   ]
  },
  {
   "cell_type": "code",
   "execution_count": 1,
   "metadata": {},
   "outputs": [],
   "source": [
    "import pandas as pd\n",
    "import re\n",
    "from datetime import datetime"
   ]
  },
  {
   "cell_type": "code",
   "execution_count": 2,
   "metadata": {},
   "outputs": [],
   "source": [
    "df = pd.read_csv('main_task.xls')"
   ]
  },
  {
   "cell_type": "code",
   "execution_count": 3,
   "metadata": {},
   "outputs": [],
   "source": [
    "# Функции\n",
    "\n",
    "def find_date1(x):\n",
    "    '''Функция возвращает первое значение из строки с датой'''\n",
    "    pattern = re.compile('\\d\\d/\\d\\d/\\d\\d\\d\\d')\n",
    "    date1 = pattern.search(x)\n",
    "    if date1 != None:\n",
    "        return date1.group(0)\n",
    "        \n",
    "def find_date2(x):\n",
    "    '''Функция возвращает последнее значение из строки с датами'''\n",
    "    pattern = re.compile('\\d\\d/\\d\\d/\\d\\d\\d\\d')\n",
    "    date2 = pattern.findall(x)\n",
    "    if len(date2)>1:\n",
    "        return date2[-1]"
   ]
  },
  {
   "cell_type": "code",
   "execution_count": 4,
   "metadata": {},
   "outputs": [],
   "source": [
    "# Заполняем пропуски в значениях\n",
    "df['Number of Reviews'] = df['Number of Reviews'].fillna(0)\n",
    "df['Price Range'].fillna(df['Price Range'].mode()[0], inplace=True)\n",
    "\n",
    "# Вместо пропусков в количестве кухонь считаем, что ресторан представлен одной кухней \n",
    "df['Cuisine Style'] = df['Cuisine Style'].fillna(\"['Other']\")"
   ]
  },
  {
   "cell_type": "code",
   "execution_count": 5,
   "metadata": {},
   "outputs": [],
   "source": [
    "# Создаем столбец с количеством кухонь\n",
    "df['Number of Cuisine Styles'] = df['Cuisine Style'].apply(lambda x: len(list(x[1:-1].split(', '))))"
   ]
  },
  {
   "cell_type": "code",
   "execution_count": 6,
   "metadata": {},
   "outputs": [],
   "source": [
    "# Создаем новые столбцы с датами отзывов\n",
    "df['Review date1'] = df.Reviews.apply(find_date1)\n",
    "df['Review date1'] = pd.to_datetime(df['Review date1'])\n",
    "\n",
    "df['Review date2'] = df.Reviews.apply(find_date2)\n",
    "df['Review date2'] = pd.to_datetime(df['Review date2'])\n",
    "\n",
    "# Создаем столбец с количеством дней между отзывами\n",
    "df['Review date diff'] = df['Review date1'] - df['Review date2']\n",
    "df['Review date diff'] = df['Review date diff'].apply(lambda x: abs(x.days))\n",
    "\n",
    "# Создаем столбец с количеством дней после последнего отзыва\n",
    "from datetime import date\n",
    "df['From last review'] = datetime.today() - df['Review date1']\n",
    "df['From last review'] = df['From last review'].apply(lambda x: x.days)\n",
    "\n",
    "# Заполняем пропуски медианным значением в колонках с разницей дней\n",
    "df['Review date diff'].fillna(df['Review date diff'].median(), inplace=True)\n",
    "df['From last review'].fillna(df['From last review'].median(), inplace=True)\n"
   ]
  },
  {
   "cell_type": "code",
   "execution_count": 7,
   "metadata": {},
   "outputs": [],
   "source": [
    "# Переводим столбец с ценовой категорией в числовой формат\n",
    "price_dict = { '$$$$':2,\n",
    "               '$$ - $$$':1, \n",
    "               '$':0}\n",
    "df['Price Range'] = df['Price Range'].replace(to_replace=price_dict)"
   ]
  },
  {
   "cell_type": "code",
   "execution_count": 8,
   "metadata": {},
   "outputs": [],
   "source": [
    "# Добавляем колонки с площадью города и количеством населения\n",
    "city_dict = {}\n",
    "data = [[2.2, 105], [1, 188], [8.9, 1706], \n",
    "         [3.6, 891], [1.5, 310], [0.3, 41.4], \n",
    "         [1.4, 181], [0.4, 368], [1.9, 414], \n",
    "         [2.9, 1287], [1.7, 101], [3.3, 607], \n",
    "         [1.2, 117], [0.2, 32.6], [0.4, 88], \n",
    "         [1.8, 517], [1.8, 525], [0.8, 86.4], \n",
    "         [0.9, 219], [0.5, 48], [1.9, 755], \n",
    "         [0.5,100], [1.3, 496], [0.7, 454], \n",
    "         [0.7,213], [0.5, 120], [0.2, 16], \n",
    "         [0.3, 163], [0.7, 39], [0.125, 51.5], \n",
    "         [0.8, 327]]\n",
    "cities = df.City.unique()\n",
    "for i in range(len(cities)):\n",
    "    city_dict[cities[i]] = data[i] \n",
    "    \n",
    "df['City square'] = df['City'].apply(lambda x: city_dict[x][0])\n",
    "df['City population'] = df['City'].apply(lambda x: city_dict[x][1])"
   ]
  },
  {
   "cell_type": "code",
   "execution_count": 9,
   "metadata": {},
   "outputs": [
    {
     "data": {
      "text/html": [
       "<div>\n",
       "<style scoped>\n",
       "    .dataframe tbody tr th:only-of-type {\n",
       "        vertical-align: middle;\n",
       "    }\n",
       "\n",
       "    .dataframe tbody tr th {\n",
       "        vertical-align: top;\n",
       "    }\n",
       "\n",
       "    .dataframe thead th {\n",
       "        text-align: right;\n",
       "    }\n",
       "</style>\n",
       "<table border=\"1\" class=\"dataframe\">\n",
       "  <thead>\n",
       "    <tr style=\"text-align: right;\">\n",
       "      <th></th>\n",
       "      <th>Ranking</th>\n",
       "      <th>Rating</th>\n",
       "      <th>Price Range</th>\n",
       "      <th>Number of Reviews</th>\n",
       "      <th>Number of Cuisine Styles</th>\n",
       "      <th>Review date diff</th>\n",
       "      <th>From last review</th>\n",
       "      <th>City square</th>\n",
       "      <th>City population</th>\n",
       "    </tr>\n",
       "  </thead>\n",
       "  <tbody>\n",
       "    <tr>\n",
       "      <th>Ranking</th>\n",
       "      <td>1.000000</td>\n",
       "      <td>-0.368371</td>\n",
       "      <td>-0.026525</td>\n",
       "      <td>-0.222072</td>\n",
       "      <td>-0.320250</td>\n",
       "      <td>0.091467</td>\n",
       "      <td>0.166834</td>\n",
       "      <td>0.570810</td>\n",
       "      <td>0.404542</td>\n",
       "    </tr>\n",
       "    <tr>\n",
       "      <th>Rating</th>\n",
       "      <td>-0.368371</td>\n",
       "      <td>1.000000</td>\n",
       "      <td>-0.028588</td>\n",
       "      <td>0.026924</td>\n",
       "      <td>0.120059</td>\n",
       "      <td>-0.070799</td>\n",
       "      <td>-0.087124</td>\n",
       "      <td>-0.024219</td>\n",
       "      <td>0.017983</td>\n",
       "    </tr>\n",
       "    <tr>\n",
       "      <th>Price Range</th>\n",
       "      <td>-0.026525</td>\n",
       "      <td>-0.028588</td>\n",
       "      <td>1.000000</td>\n",
       "      <td>0.107162</td>\n",
       "      <td>0.003177</td>\n",
       "      <td>-0.030718</td>\n",
       "      <td>0.001173</td>\n",
       "      <td>-0.018437</td>\n",
       "      <td>-0.038465</td>\n",
       "    </tr>\n",
       "    <tr>\n",
       "      <th>Number of Reviews</th>\n",
       "      <td>-0.222072</td>\n",
       "      <td>0.026924</td>\n",
       "      <td>0.107162</td>\n",
       "      <td>1.000000</td>\n",
       "      <td>0.405641</td>\n",
       "      <td>-0.125437</td>\n",
       "      <td>-0.174350</td>\n",
       "      <td>0.023761</td>\n",
       "      <td>0.047716</td>\n",
       "    </tr>\n",
       "    <tr>\n",
       "      <th>Number of Cuisine Styles</th>\n",
       "      <td>-0.320250</td>\n",
       "      <td>0.120059</td>\n",
       "      <td>0.003177</td>\n",
       "      <td>0.405641</td>\n",
       "      <td>1.000000</td>\n",
       "      <td>-0.184014</td>\n",
       "      <td>-0.280628</td>\n",
       "      <td>0.046756</td>\n",
       "      <td>0.079100</td>\n",
       "    </tr>\n",
       "    <tr>\n",
       "      <th>Review date diff</th>\n",
       "      <td>0.091467</td>\n",
       "      <td>-0.070799</td>\n",
       "      <td>-0.030718</td>\n",
       "      <td>-0.125437</td>\n",
       "      <td>-0.184014</td>\n",
       "      <td>1.000000</td>\n",
       "      <td>0.141528</td>\n",
       "      <td>-0.043083</td>\n",
       "      <td>-0.041571</td>\n",
       "    </tr>\n",
       "    <tr>\n",
       "      <th>From last review</th>\n",
       "      <td>0.166834</td>\n",
       "      <td>-0.087124</td>\n",
       "      <td>0.001173</td>\n",
       "      <td>-0.174350</td>\n",
       "      <td>-0.280628</td>\n",
       "      <td>0.141528</td>\n",
       "      <td>1.000000</td>\n",
       "      <td>-0.043386</td>\n",
       "      <td>-0.044541</td>\n",
       "    </tr>\n",
       "    <tr>\n",
       "      <th>City square</th>\n",
       "      <td>0.570810</td>\n",
       "      <td>-0.024219</td>\n",
       "      <td>-0.018437</td>\n",
       "      <td>0.023761</td>\n",
       "      <td>0.046756</td>\n",
       "      <td>-0.043083</td>\n",
       "      <td>-0.043386</td>\n",
       "      <td>1.000000</td>\n",
       "      <td>0.911371</td>\n",
       "    </tr>\n",
       "    <tr>\n",
       "      <th>City population</th>\n",
       "      <td>0.404542</td>\n",
       "      <td>0.017983</td>\n",
       "      <td>-0.038465</td>\n",
       "      <td>0.047716</td>\n",
       "      <td>0.079100</td>\n",
       "      <td>-0.041571</td>\n",
       "      <td>-0.044541</td>\n",
       "      <td>0.911371</td>\n",
       "      <td>1.000000</td>\n",
       "    </tr>\n",
       "  </tbody>\n",
       "</table>\n",
       "</div>"
      ],
      "text/plain": [
       "                           Ranking    Rating  Price Range  Number of Reviews  \\\n",
       "Ranking                   1.000000 -0.368371    -0.026525          -0.222072   \n",
       "Rating                   -0.368371  1.000000    -0.028588           0.026924   \n",
       "Price Range              -0.026525 -0.028588     1.000000           0.107162   \n",
       "Number of Reviews        -0.222072  0.026924     0.107162           1.000000   \n",
       "Number of Cuisine Styles -0.320250  0.120059     0.003177           0.405641   \n",
       "Review date diff          0.091467 -0.070799    -0.030718          -0.125437   \n",
       "From last review          0.166834 -0.087124     0.001173          -0.174350   \n",
       "City square               0.570810 -0.024219    -0.018437           0.023761   \n",
       "City population           0.404542  0.017983    -0.038465           0.047716   \n",
       "\n",
       "                          Number of Cuisine Styles  Review date diff  \\\n",
       "Ranking                                  -0.320250          0.091467   \n",
       "Rating                                    0.120059         -0.070799   \n",
       "Price Range                               0.003177         -0.030718   \n",
       "Number of Reviews                         0.405641         -0.125437   \n",
       "Number of Cuisine Styles                  1.000000         -0.184014   \n",
       "Review date diff                         -0.184014          1.000000   \n",
       "From last review                         -0.280628          0.141528   \n",
       "City square                               0.046756         -0.043083   \n",
       "City population                           0.079100         -0.041571   \n",
       "\n",
       "                          From last review  City square  City population  \n",
       "Ranking                           0.166834     0.570810         0.404542  \n",
       "Rating                           -0.087124    -0.024219         0.017983  \n",
       "Price Range                       0.001173    -0.018437        -0.038465  \n",
       "Number of Reviews                -0.174350     0.023761         0.047716  \n",
       "Number of Cuisine Styles         -0.280628     0.046756         0.079100  \n",
       "Review date diff                  0.141528    -0.043083        -0.041571  \n",
       "From last review                  1.000000    -0.043386        -0.044541  \n",
       "City square                      -0.043386     1.000000         0.911371  \n",
       "City population                  -0.044541     0.911371         1.000000  "
      ]
     },
     "execution_count": 9,
     "metadata": {},
     "output_type": "execute_result"
    }
   ],
   "source": [
    "# Анализируем степень корреляции переменных между собой и Rating\n",
    "df.corr()"
   ]
  },
  {
   "cell_type": "code",
   "execution_count": 10,
   "metadata": {},
   "outputs": [],
   "source": [
    "# Количество населения и площадь сильно коррелируют между собой,\n",
    "# поэтому введем признак, обозначающий плотность населения, \n",
    "# а столбцы с количеством населения и площадью удалим.\n",
    "df['Population density'] = df['City population'] / df['City square']"
   ]
  },
  {
   "cell_type": "code",
   "execution_count": 11,
   "metadata": {},
   "outputs": [],
   "source": [
    "# Преобразуем колонки City и Cuisine Style, исполязуя dummy-переменные\n",
    "# Добавим столбцы с dummy-переменными к датафрейму\n",
    "df['Cuisine Style'] = df['Cuisine Style'].apply(lambda x: x[1:-1])\n",
    "df_cuisine = df['Cuisine Style'].str.get_dummies(sep=', ')\n",
    "df_city = pd.get_dummies(df.City)\n",
    "df = pd.concat([df, df_cuisine], axis=1)\n",
    "df = pd.concat([df, df_city], axis=1)"
   ]
  },
  {
   "cell_type": "code",
   "execution_count": 12,
   "metadata": {},
   "outputs": [],
   "source": [
    "# Удаляем столбцы с категориальными переменными\n",
    "df = df.drop(['City', 'Restaurant_id', 'Cuisine Style', 'Price Range', \n",
    "              'Reviews', 'URL_TA', 'ID_TA', 'Review date1', \n",
    "              'Review date2', 'City population', 'City square'\n",
    "             ], axis=1)"
   ]
  },
  {
   "cell_type": "markdown",
   "metadata": {},
   "source": [
    "# Разбиваем датафрейм на части, необходимые для обучения и тестирования модели"
   ]
  },
  {
   "cell_type": "code",
   "execution_count": 13,
   "metadata": {},
   "outputs": [],
   "source": [
    "# Х - данные с информацией о ресторанах, у - целевая переменная (рейтинги ресторанов)\n",
    "X = df.drop(['Rating'], axis = 1)\n",
    "y = df['Rating']"
   ]
  },
  {
   "cell_type": "code",
   "execution_count": 14,
   "metadata": {},
   "outputs": [],
   "source": [
    "# Загружаем специальный инструмент для разбивки:\n",
    "from sklearn.model_selection import train_test_split"
   ]
  },
  {
   "cell_type": "code",
   "execution_count": 15,
   "metadata": {},
   "outputs": [],
   "source": [
    "# Наборы данных с меткой \"train\" будут использоваться для обучения модели, \"test\" - для тестирования.\n",
    "# Для тестирования мы будем использовать 25% от исходного датасета.\n",
    "X_train, X_test, y_train, y_test = train_test_split(X, y, test_size=0.25)"
   ]
  },
  {
   "cell_type": "markdown",
   "metadata": {},
   "source": [
    "# Создаём, обучаем и тестируем модель"
   ]
  },
  {
   "cell_type": "code",
   "execution_count": 16,
   "metadata": {},
   "outputs": [],
   "source": [
    "# Импортируем необходимые библиотеки:\n",
    "from sklearn.ensemble import RandomForestRegressor # инструмент для создания и обучения модели\n",
    "from sklearn import metrics # инструменты для оценки точности модели"
   ]
  },
  {
   "cell_type": "code",
   "execution_count": 17,
   "metadata": {},
   "outputs": [],
   "source": [
    "# Создаём модель\n",
    "regr = RandomForestRegressor(n_estimators=100)\n",
    "\n",
    "# Обучаем модель на тестовом наборе данных\n",
    "regr.fit(X_train, y_train)\n",
    "\n",
    "# Используем обученную модель для предсказания рейтинга ресторанов в тестовой выборке.\n",
    "# Предсказанные значения записываем в переменную y_pred\n",
    "y_pred = regr.predict(X_test)"
   ]
  },
  {
   "cell_type": "code",
   "execution_count": 18,
   "metadata": {},
   "outputs": [
    {
     "name": "stdout",
     "output_type": "stream",
     "text": [
      "MAE: 0.20564000000000002\n"
     ]
    }
   ],
   "source": [
    "# Сравниваем предсказанные значения (y_pred) с реальными (y_test), и смотрим насколько они в среднем отличаются\n",
    "# Метрика называется Mean Absolute Error (MAE) и показывает среднее отклонение предсказанных значений от фактических.\n",
    "print('MAE:', metrics.mean_absolute_error(y_test, y_pred))"
   ]
  },
  {
   "cell_type": "code",
   "execution_count": null,
   "metadata": {},
   "outputs": [],
   "source": []
  }
 ],
 "metadata": {
  "kernelspec": {
   "display_name": "Python 3",
   "language": "python",
   "name": "python3"
  },
  "language_info": {
   "codemirror_mode": {
    "name": "ipython",
    "version": 3
   },
   "file_extension": ".py",
   "mimetype": "text/x-python",
   "name": "python",
   "nbconvert_exporter": "python",
   "pygments_lexer": "ipython3",
   "version": "3.8.5"
  }
 },
 "nbformat": 4,
 "nbformat_minor": 2
}
